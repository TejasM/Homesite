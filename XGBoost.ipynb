{
 "cells": [
  {
   "cell_type": "code",
   "execution_count": 1,
   "metadata": {
    "collapsed": false
   },
   "outputs": [],
   "source": [
    "%matplotlib inline\n",
    "import pandas as pd\n",
    "import numpy as np\n",
    "import xgboost as xgb\n",
    "from sklearn import preprocessing\n",
    "from sklearn.cross_validation import train_test_split\n",
    "import matplotlib.pyplot as plt\n",
    "\n",
    "seed = 260681\n",
    "\n",
    "train = pd.read_csv('train.csv')\n",
    "test = pd.read_csv('test.csv')\n",
    "\n",
    "train_y = train.QuoteConversion_Flag.values\n",
    "train = train.drop(['QuoteNumber', 'QuoteConversion_Flag'], axis=1)\n",
    "test = test.drop('QuoteNumber', axis=1)"
   ]
  },
  {
   "cell_type": "code",
   "execution_count": 2,
   "metadata": {
    "collapsed": true
   },
   "outputs": [],
   "source": [
    "# Lets play with some dates\n",
    "train['Date'] = pd.to_datetime(pd.Series(train['Original_Quote_Date']))\n",
    "train = train.drop('Original_Quote_Date', axis=1)\n",
    "\n",
    "test['Date'] = pd.to_datetime(pd.Series(test['Original_Quote_Date']))\n",
    "test = test.drop('Original_Quote_Date', axis=1)\n",
    "\n",
    "train['Year'] = train['Date'].apply(lambda x: int(str(x)[:4]))\n",
    "train['Month'] = train['Date'].apply(lambda x: int(str(x)[5:7]))\n",
    "train['weekday'] = train['Date'].dt.dayofweek\n",
    "\n",
    "\n",
    "test['Year'] = test['Date'].apply(lambda x: int(str(x)[:4]))\n",
    "test['Month'] = test['Date'].apply(lambda x: int(str(x)[5:7]))\n",
    "test['weekday'] = test['Date'].dt.dayofweek\n",
    "\n",
    "train = train.drop('Date', axis=1)\n",
    "test = test.drop('Date', axis=1)"
   ]
  },
  {
   "cell_type": "code",
   "execution_count": 3,
   "metadata": {
    "collapsed": true
   },
   "outputs": [],
   "source": [
    "from sklearn.base import TransformerMixin\n",
    "\n",
    "class DataFrameImputer(TransformerMixin):\n",
    "\n",
    "    def __init__(self):\n",
    "        \"\"\"Impute missing values.\n",
    "\n",
    "        Columns of dtype object are imputed with the most frequent value \n",
    "        in column.\n",
    "\n",
    "        Columns of other types are imputed with mean of column.\n",
    "\n",
    "        \"\"\"\n",
    "    def fit(self, X, y=None):\n",
    "\n",
    "        self.fill = pd.Series([X[c].value_counts().index[0]\n",
    "            if X[c].dtype == np.dtype('O') else X[c].mean() for c in X],\n",
    "            index=X.columns)\n",
    "\n",
    "        return self\n",
    "\n",
    "    def transform(self, X, y=None):\n",
    "        return X.fillna(self.fill)\n",
    "    \n",
    "train = DataFrameImputer().fit_transform(train)\n",
    "test = DataFrameImputer().fit_transform(test)"
   ]
  },
  {
   "cell_type": "code",
   "execution_count": 4,
   "metadata": {
    "collapsed": false
   },
   "outputs": [],
   "source": [
    "for f in train.columns:\n",
    "    if train[f].dtype=='object':\n",
    "        lbl = preprocessing.LabelEncoder()\n",
    "        lbl.fit(list(train[f].values) + list(test[f].values))\n",
    "        train[f] = lbl.transform(list(train[f].values))\n",
    "        test[f] = lbl.transform(list(test[f].values))"
   ]
  },
  {
   "cell_type": "code",
   "execution_count": null,
   "metadata": {
    "collapsed": false
   },
   "outputs": [],
   "source": [
    "# train, val_train, train_y, test_y = train_test_split(\n",
    "#      train, train_y, test_size=0.10, random_state=42)"
   ]
  },
  {
   "cell_type": "code",
   "execution_count": null,
   "metadata": {
    "collapsed": false
   },
   "outputs": [],
   "source": [
    "#current Best\n",
    "clf = xgb.XGBClassifier(n_estimators=35,\n",
    "                        objective='binary:logistic',\n",
    "                        nthread=-1,\n",
    "                        max_depth=15,\n",
    "                        learning_rate=0.025,\n",
    "                        silent=True,\n",
    "                        subsample=0.86,\n",
    "                        colsample_bytree=0.68)\n",
    "print train.shape, train_y.shape, val_train.shape, train_y.shape\n",
    "xgb_model = clf.fit(train, train_y, eval_metric=\"auc\")\n",
    "\n",
    "\n",
    "preds = clf.predict_proba(test)[:,1]\n",
    "sample = pd.read_csv('sample_submission.csv')\n",
    "sample.QuoteConversion_Flag = preds\n",
    "sample.to_csv('xgb_benchmark.csv', index=False)"
   ]
  },
  {
   "cell_type": "code",
   "execution_count": null,
   "metadata": {
    "collapsed": true
   },
   "outputs": [],
   "source": [
    "from sklearn import metrics\n",
    "from sklearn import grid_search\n",
    "\n",
    "\n",
    "param_grid = [\n",
    "  {'scale_pos_weight': [1, 1.1]}\n",
    " ]\n",
    "\n",
    "clf = xgb.XGBClassifier(n_estimators=35,\n",
    "                        objective='binary:logistic',\n",
    "                        nthread=-1,\n",
    "                        scale_pos_weight=1,\n",
    "                        max_depth=15,\n",
    "                        learning_rate=0.025,\n",
    "                        silent=True,\n",
    "                        subsample=0.86,\n",
    "                        colsample_bytree=0.68)\n",
    "\n",
    "\n",
    "model = grid_search.GridSearchCV(clf, param_grid)"
   ]
  },
  {
   "cell_type": "code",
   "execution_count": null,
   "metadata": {
    "collapsed": false
   },
   "outputs": [],
   "source": [
    "model.fit(train.values, train_y)"
   ]
  },
  {
   "cell_type": "code",
   "execution_count": null,
   "metadata": {
    "collapsed": false
   },
   "outputs": [],
   "source": [
    "model.best_params_"
   ]
  },
  {
   "cell_type": "code",
   "execution_count": null,
   "metadata": {
    "collapsed": false
   },
   "outputs": [],
   "source": [
    "preds = model.predict_proba(test)[:,1]\n",
    "sample = pd.read_csv('sample_submission.csv')\n",
    "sample.QuoteConversion_Flag = preds\n",
    "sample.to_csv('xgb_benchmark.csv', index=False)"
   ]
  },
  {
   "cell_type": "code",
   "execution_count": null,
   "metadata": {
    "collapsed": false
   },
   "outputs": [],
   "source": [
    "from sklearn.decomposition import PCA, KernelPCA\n",
    "# kpca = KernelPCA(kernel=\"rbf\", gamma=10,n_components=1)\n",
    "# X_kpca = kpca.fit_transform(train.values)\n",
    "#print kpca.explained_variance_ratio_\n",
    "pca = PCA(n_components=1)\n",
    "X_pca = pca.fit_transform(train.values)\n",
    "print(pca.explained_variance_ratio_) \n",
    "# Plot results\n",
    "\n",
    "plt.figure()\n",
    "plt.plot(X_pca, train_y, \"ro\")\n",
    "plt.title(\"Projection by PCA\")\n",
    "plt.xlabel(\"1st principal component\")"
   ]
  },
  {
   "cell_type": "code",
   "execution_count": null,
   "metadata": {
    "collapsed": false
   },
   "outputs": [],
   "source": [
    "from sklearn.ensemble import ExtraTreesClassifier\n",
    "forest = ExtraTreesClassifier(n_estimators=250,\n",
    "                              random_state=0)\n",
    "\n",
    "forest.fit(train.values, train_y)\n",
    "importances = forest.feature_importances_\n",
    "std = np.std([tree.feature_importances_ for tree in forest.estimators_],\n",
    "             axis=0)\n",
    "indices = np.argsort(importances)[::-1]"
   ]
  },
  {
   "cell_type": "code",
   "execution_count": null,
   "metadata": {
    "collapsed": false
   },
   "outputs": [],
   "source": [
    "# Print the feature ranking\n",
    "print(\"Feature ranking:\")\n",
    "columns = []\n",
    "for f in range(min(train.shape[1], 20)):\n",
    "    print(\"%s. feature %d (%f)\" % (train.columns[indices[f]], indices[f], importances[indices[f]]))\n",
    "    columns.append(train.columns[indices[f]])\n",
    "# Plot the feature importances of the forest\n",
    "plt.figure()\n",
    "plt.title(\"Feature importances\")\n",
    "plt.bar(range(min(train.shape[1], 10)), importances[indices[:10]],\n",
    "       color=\"r\", yerr=std[indices[:10]], align=\"center\")\n",
    "plt.xticks(range(min(train.shape[1], 10)), indices[:10])\n",
    "plt.xlim([-1, min(train.shape[1], 10)])\n",
    "plt.show()"
   ]
  },
  {
   "cell_type": "code",
   "execution_count": null,
   "metadata": {
    "collapsed": false
   },
   "outputs": [],
   "source": [
    "X = train[columns]\n",
    "X['pca'] = X_pca[:, 0]\n",
    "clf = xgb.XGBClassifier(n_estimators=35,\n",
    "                        objective='binary:logistic',\n",
    "                        nthread=-1,\n",
    "                        max_depth=15,\n",
    "                        learning_rate=0.025,\n",
    "                        silent=True,\n",
    "                        subsample=0.86,\n",
    "                        colsample_bytree=0.68)\n",
    "xgb_model = clf.fit(X, train_y, eval_metric=\"auc\")\n",
    "\n",
    "test_pca = pca.transform(test)\n",
    "X_test = test[columns]\n",
    "X_test['pca'] = test_pca[:, 0]\n",
    "preds = clf.predict_proba(X_test)[:,1]\n",
    "sample = pd.read_csv('sample_submission.csv')\n",
    "sample.QuoteConversion_Flag = preds\n",
    "sample.to_csv('xgb_benchmark.csv', index=False)"
   ]
  },
  {
   "cell_type": "code",
   "execution_count": 5,
   "metadata": {
    "collapsed": false
   },
   "outputs": [],
   "source": [
    "#Create KFold Stackers\n",
    "clfs = []\n",
    "stacks = []\n",
    "preds = []\n",
    "full_clf = xgb.XGBClassifier(n_estimators=35,\n",
    "                        objective='binary:logistic',\n",
    "                        nthread=-1,\n",
    "                        max_depth=15,\n",
    "                        learning_rate=0.025,\n",
    "                        silent=True,\n",
    "                        subsample=0.86,\n",
    "                        colsample_bytree=0.68)\n",
    "full_xgb_model = full_clf.fit(train, train_y, eval_metric=\"auc\")\n",
    "\n",
    "full_preds = full_clf.predict_proba(test)[:,1]"
   ]
  },
  {
   "cell_type": "code",
   "execution_count": null,
   "metadata": {
    "collapsed": false
   },
   "outputs": [],
   "source": [
    "folds = 2\n",
    "from sklearn.cross_validation import KFold\n",
    "from sklearn.svm import SVR\n",
    "kf = KFold(train.shape[0], n_folds=folds)\n",
    "for train_index, test_index in kf:\n",
    "    X_train, X_test = train.iloc[train_index, :], train.iloc[test_index, :]\n",
    "    y_train, y_test = train_y[train_index], train_y[test_index]\n",
    "    cl = xgb.XGBClassifier(n_estimators=35,\n",
    "                        objective='binary:logistic',\n",
    "                        nthread=-1,\n",
    "                        max_depth=15,\n",
    "                        learning_rate=0.025,\n",
    "                        silent=True,\n",
    "                        subsample=0.86,\n",
    "                        colsample_bytree=0.68)\n",
    "    cl.fit(X_train, y_train, eval_metric=\"auc\")\n",
    "    clfs.append(cl)\n",
    "    pred = cl.predict_proba(X_test)[:,1]\n",
    "    stack = SVR(C=1.0, epsilon=0.2)\n",
    "    print pred.shape, y_test.shape\n",
    "    stack.fit(pred.reshape((pred.shape[0], 1,)), y_test.reshape((y_test.shape[0], 1,)))\n",
    "    print stack.score(pred.reshape((pred.shape[0], 1,)), y_test.reshape((y_test.shape[0], 1,)))\n",
    "    stacks.append(stack)"
   ]
  },
  {
   "cell_type": "code",
   "execution_count": 7,
   "metadata": {
    "collapsed": true
   },
   "outputs": [],
   "source": [
    "#Average Preds\n",
    "for cl, stack in zip(clfs, stacks):\n",
    "    probs = cl.predict_proba(test)[:, 1]\n",
    "    preds.append(stack.predict(probs.reshape(probs.shape[0], 1)))"
   ]
  },
  {
   "cell_type": "code",
   "execution_count": 10,
   "metadata": {
    "collapsed": false
   },
   "outputs": [
    {
     "name": "stdout",
     "output_type": "stream",
     "text": [
      "[ 0.20118165  0.19132914  0.1919019  ...,  0.95768068  0.20138666\n",
      "  0.21126332]\n"
     ]
    }
   ],
   "source": [
    "last_preds = full_preds\n",
    "for p in preds:\n",
    "    last_preds = (last_preds + p)/2\n",
    "print last_preds\n",
    "sample = pd.read_csv('sample_submission.csv')\n",
    "sample.QuoteConversion_Flag = last_preds\n",
    "sample.to_csv('full_xgb_benchmark.csv', index=False)"
   ]
  }
 ],
 "metadata": {
  "kernelspec": {
   "display_name": "Python 2",
   "language": "python",
   "name": "python2"
  },
  "language_info": {
   "codemirror_mode": {
    "name": "ipython",
    "version": 2
   },
   "file_extension": ".py",
   "mimetype": "text/x-python",
   "name": "python",
   "nbconvert_exporter": "python",
   "pygments_lexer": "ipython2",
   "version": "2.7.10"
  }
 },
 "nbformat": 4,
 "nbformat_minor": 0
}
