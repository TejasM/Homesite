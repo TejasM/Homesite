{
 "cells": [
  {
   "cell_type": "code",
   "execution_count": 9,
   "metadata": {
    "collapsed": true
   },
   "outputs": [],
   "source": [
    "import pandas as pd\n",
    "import tensorflow as tf\n",
    "import numpy as np"
   ]
  },
  {
   "cell_type": "code",
   "execution_count": 97,
   "metadata": {
    "collapsed": false
   },
   "outputs": [],
   "source": [
    "train = pd.read_csv('train.csv')\n",
    "\n",
    "quote_nums = train['QuoteNumber']\n",
    "output = train['QuoteConversion_Flag'].reshape(train.shape[0], 1)\n",
    "del train['QuoteNumber']\n",
    "del train['QuoteConversion_Flag']\n"
   ]
  },
  {
   "cell_type": "code",
   "execution_count": 98,
   "metadata": {
    "collapsed": false
   },
   "outputs": [
    {
     "name": "stdout",
     "output_type": "stream",
     "text": [
      "(260753, 1)\n",
      "0         False\n",
      "1         False\n",
      "2         False\n",
      "3         False\n",
      "4         False\n",
      "5         False\n",
      "6         False\n",
      "7         False\n",
      "8         False\n",
      "9         False\n",
      "10        False\n",
      "11        False\n",
      "12        False\n",
      "13        False\n",
      "14        False\n",
      "15        False\n",
      "16        False\n",
      "17        False\n",
      "18        False\n",
      "19        False\n",
      "20        False\n",
      "21        False\n",
      "22        False\n",
      "23        False\n",
      "24        False\n",
      "25        False\n",
      "26        False\n",
      "27        False\n",
      "28        False\n",
      "29        False\n",
      "          ...  \n",
      "260723    False\n",
      "260724    False\n",
      "260725    False\n",
      "260726    False\n",
      "260727    False\n",
      "260728    False\n",
      "260729    False\n",
      "260730    False\n",
      "260731    False\n",
      "260732    False\n",
      "260733    False\n",
      "260734    False\n",
      "260735    False\n",
      "260736    False\n",
      "260737    False\n",
      "260738    False\n",
      "260739    False\n",
      "260740    False\n",
      "260741    False\n",
      "260742    False\n",
      "260743    False\n",
      "260744    False\n",
      "260745    False\n",
      "260746    False\n",
      "260747    False\n",
      "260748    False\n",
      "260749    False\n",
      "260750    False\n",
      "260751    False\n",
      "260752    False\n",
      "dtype: bool\n"
     ]
    }
   ],
   "source": [
    "#factorize columns\n",
    "print output.shape\n",
    "for c in train.columns:\n",
    "    if train[c].dtype == 'object':\n",
    "        train[c] = train[c].fillna('missing')\n",
    "        train[c] = pd.factorize(train[c])[0]\n",
    "    else:\n",
    "        train[c] = train[c].fillna(0)\n",
    "        \n",
    "#Split Data\n",
    "msk = np.random.rand(len(train)) < 0.8\n",
    "training, test = train[msk], train[~msk]\n",
    "outputing, output_test = output[msk], output[~msk]"
   ]
  },
  {
   "cell_type": "code",
   "execution_count": 99,
   "metadata": {
    "collapsed": false
   },
   "outputs": [
    {
     "name": "stdout",
     "output_type": "stream",
     "text": [
      "[[ 0.]\n",
      " [ 0.]\n",
      " [ 0.]\n",
      " ..., \n",
      " [ 0.]\n",
      " [ 0.]\n",
      " [ 0.]]\n"
     ]
    },
    {
     "name": "stderr",
     "output_type": "stream",
     "text": [
      "Exception AssertionError: AssertionError() in <bound method InteractiveSession.__del__ of <tensorflow.python.client.session.InteractiveSession object at 0x1161e0d50>> ignored\n"
     ]
    },
    {
     "ename": "InvalidArgumentError",
     "evalue": "ReluGrad input is not finite. : Tensor had NaN values\n\t [[Node: gradients_34/Relu_3_grad/Relu_3/CheckNumerics = CheckNumerics[T=DT_FLOAT, message=\"ReluGrad input is not finite.\", _device=\"/job:localhost/replica:0/task:0/cpu:0\"](Add_2)]]\nCaused by op u'gradients_34/Relu_3_grad/Relu_3/CheckNumerics', defined at:\n  File \"/System/Library/Frameworks/Python.framework/Versions/2.7/lib/python2.7/runpy.py\", line 162, in _run_module_as_main\n    \"__main__\", fname, loader, pkg_name)\n  File \"/System/Library/Frameworks/Python.framework/Versions/2.7/lib/python2.7/runpy.py\", line 72, in _run_code\n    exec code in run_globals\n  File \"/Users/tejasmehta/virtual/sharpscholar/lib/python2.7/site-packages/ipykernel/__main__.py\", line 3, in <module>\n    app.launch_new_instance()\n  File \"/Users/tejasmehta/virtual/sharpscholar/lib/python2.7/site-packages/traitlets/config/application.py\", line 592, in launch_instance\n    app.start()\n  File \"/Users/tejasmehta/virtual/sharpscholar/lib/python2.7/site-packages/ipykernel/kernelapp.py\", line 403, in start\n    ioloop.IOLoop.instance().start()\n  File \"/Users/tejasmehta/virtual/sharpscholar/lib/python2.7/site-packages/zmq/eventloop/ioloop.py\", line 162, in start\n    super(ZMQIOLoop, self).start()\n  File \"/Users/tejasmehta/virtual/sharpscholar/lib/python2.7/site-packages/tornado/ioloop.py\", line 866, in start\n    handler_func(fd_obj, events)\n  File \"/Users/tejasmehta/virtual/sharpscholar/lib/python2.7/site-packages/tornado/stack_context.py\", line 275, in null_wrapper\n    return fn(*args, **kwargs)\n  File \"/Users/tejasmehta/virtual/sharpscholar/lib/python2.7/site-packages/zmq/eventloop/zmqstream.py\", line 440, in _handle_events\n    self._handle_recv()\n  File \"/Users/tejasmehta/virtual/sharpscholar/lib/python2.7/site-packages/zmq/eventloop/zmqstream.py\", line 472, in _handle_recv\n    self._run_callback(callback, msg)\n  File \"/Users/tejasmehta/virtual/sharpscholar/lib/python2.7/site-packages/zmq/eventloop/zmqstream.py\", line 414, in _run_callback\n    callback(*args, **kwargs)\n  File \"/Users/tejasmehta/virtual/sharpscholar/lib/python2.7/site-packages/tornado/stack_context.py\", line 275, in null_wrapper\n    return fn(*args, **kwargs)\n  File \"/Users/tejasmehta/virtual/sharpscholar/lib/python2.7/site-packages/ipykernel/kernelbase.py\", line 260, in dispatcher\n    return self.dispatch_shell(stream, msg)\n  File \"/Users/tejasmehta/virtual/sharpscholar/lib/python2.7/site-packages/ipykernel/kernelbase.py\", line 212, in dispatch_shell\n    handler(stream, idents, msg)\n  File \"/Users/tejasmehta/virtual/sharpscholar/lib/python2.7/site-packages/ipykernel/kernelbase.py\", line 370, in execute_request\n    user_expressions, allow_stdin)\n  File \"/Users/tejasmehta/virtual/sharpscholar/lib/python2.7/site-packages/ipykernel/ipkernel.py\", line 175, in do_execute\n    shell.run_cell(code, store_history=store_history, silent=silent)\n  File \"/Users/tejasmehta/virtual/sharpscholar/lib/python2.7/site-packages/IPython/core/interactiveshell.py\", line 2902, in run_cell\n    interactivity=interactivity, compiler=compiler, result=result)\n  File \"/Users/tejasmehta/virtual/sharpscholar/lib/python2.7/site-packages/IPython/core/interactiveshell.py\", line 3006, in run_ast_nodes\n    if self.run_code(code, result):\n  File \"/Users/tejasmehta/virtual/sharpscholar/lib/python2.7/site-packages/IPython/core/interactiveshell.py\", line 3066, in run_code\n    exec(code_obj, self.user_global_ns, self.user_ns)\n  File \"<ipython-input-99-1e7ae2b17d1a>\", line 16, in <module>\n    train_step = tf.train.GradientDescentOptimizer(0.01).minimize(cross_entropy)\n  File \"/Users/tejasmehta/virtual/sharpscholar/lib/python2.7/site-packages/tensorflow/python/training/optimizer.py\", line 165, in minimize\n    gate_gradients=gate_gradients)\n  File \"/Users/tejasmehta/virtual/sharpscholar/lib/python2.7/site-packages/tensorflow/python/training/optimizer.py\", line 205, in compute_gradients\n    loss, var_list, gate_gradients=(gate_gradients == Optimizer.GATE_OP))\n  File \"/Users/tejasmehta/virtual/sharpscholar/lib/python2.7/site-packages/tensorflow/python/ops/gradients.py\", line 414, in gradients\n    in_grads = _AsList(grad_fn(op_wrapper, *out_grads))\n  File \"/Users/tejasmehta/virtual/sharpscholar/lib/python2.7/site-packages/tensorflow/python/ops/nn_grad.py\", line 107, in _ReluGrad\n    t = _VerifyTensor(op.inputs[0], op.name, \"ReluGrad input is not finite.\")\n  File \"/Users/tejasmehta/virtual/sharpscholar/lib/python2.7/site-packages/tensorflow/python/ops/nn_grad.py\", line 100, in _VerifyTensor\n    verify_input = array_ops.check_numerics(t, message=msg)\n  File \"/Users/tejasmehta/virtual/sharpscholar/lib/python2.7/site-packages/tensorflow/python/ops/gen_array_ops.py\", line 48, in check_numerics\n    name=name)\n  File \"/Users/tejasmehta/virtual/sharpscholar/lib/python2.7/site-packages/tensorflow/python/ops/op_def_library.py\", line 633, in apply_op\n    op_def=op_def)\n  File \"/Users/tejasmehta/virtual/sharpscholar/lib/python2.7/site-packages/tensorflow/python/framework/ops.py\", line 1710, in create_op\n    original_op=self._default_original_op, op_def=op_def)\n  File \"/Users/tejasmehta/virtual/sharpscholar/lib/python2.7/site-packages/tensorflow/python/framework/ops.py\", line 988, in __init__\n    self._traceback = _extract_stack()\n\n...which was originally created as op u'Relu_3', defined at:\n  File \"/System/Library/Frameworks/Python.framework/Versions/2.7/lib/python2.7/runpy.py\", line 162, in _run_module_as_main\n    \"__main__\", fname, loader, pkg_name)\n[elided 17 identical lines from previous traceback]\n  File \"/Users/tejasmehta/virtual/sharpscholar/lib/python2.7/site-packages/IPython/core/interactiveshell.py\", line 3066, in run_code\n    exec(code_obj, self.user_global_ns, self.user_ns)\n  File \"<ipython-input-99-1e7ae2b17d1a>\", line 11, in <module>\n    y = tf.nn.relu(tf.add(tf.matmul(x,W), b))\n  File \"/Users/tejasmehta/virtual/sharpscholar/lib/python2.7/site-packages/tensorflow/python/ops/gen_nn_ops.py\", line 506, in relu\n    return _op_def_lib.apply_op(\"Relu\", features=features, name=name)\n  File \"/Users/tejasmehta/virtual/sharpscholar/lib/python2.7/site-packages/tensorflow/python/ops/op_def_library.py\", line 633, in apply_op\n    op_def=op_def)\n  File \"/Users/tejasmehta/virtual/sharpscholar/lib/python2.7/site-packages/tensorflow/python/framework/ops.py\", line 1710, in create_op\n    original_op=self._default_original_op, op_def=op_def)\n  File \"/Users/tejasmehta/virtual/sharpscholar/lib/python2.7/site-packages/tensorflow/python/framework/ops.py\", line 988, in __init__\n    self._traceback = _extract_stack()\n",
     "output_type": "error",
     "traceback": [
      "\u001b[0;31m---------------------------------------------------------------------------\u001b[0m",
      "\u001b[0;31mInvalidArgumentError\u001b[0m                      Traceback (most recent call last)",
      "\u001b[0;32m<ipython-input-99-1e7ae2b17d1a>\u001b[0m in \u001b[0;36m<module>\u001b[0;34m()\u001b[0m\n\u001b[1;32m     16\u001b[0m \u001b[0mtrain_step\u001b[0m \u001b[0;34m=\u001b[0m \u001b[0mtf\u001b[0m\u001b[0;34m.\u001b[0m\u001b[0mtrain\u001b[0m\u001b[0;34m.\u001b[0m\u001b[0mGradientDescentOptimizer\u001b[0m\u001b[0;34m(\u001b[0m\u001b[0;36m0.01\u001b[0m\u001b[0;34m)\u001b[0m\u001b[0;34m.\u001b[0m\u001b[0mminimize\u001b[0m\u001b[0;34m(\u001b[0m\u001b[0mcross_entropy\u001b[0m\u001b[0;34m)\u001b[0m\u001b[0;34m\u001b[0m\u001b[0m\n\u001b[1;32m     17\u001b[0m \u001b[0;32mfor\u001b[0m \u001b[0mi\u001b[0m \u001b[0;32min\u001b[0m \u001b[0mrange\u001b[0m\u001b[0;34m(\u001b[0m\u001b[0;36m10\u001b[0m\u001b[0;34m)\u001b[0m\u001b[0;34m:\u001b[0m\u001b[0;34m\u001b[0m\u001b[0m\n\u001b[0;32m---> 18\u001b[0;31m     \u001b[0mtrain_step\u001b[0m\u001b[0;34m.\u001b[0m\u001b[0mrun\u001b[0m\u001b[0;34m(\u001b[0m\u001b[0mfeed_dict\u001b[0m\u001b[0;34m=\u001b[0m\u001b[0;34m{\u001b[0m\u001b[0mx\u001b[0m\u001b[0;34m:\u001b[0m \u001b[0mtraining\u001b[0m\u001b[0;34m,\u001b[0m \u001b[0my_\u001b[0m\u001b[0;34m:\u001b[0m \u001b[0moutputing\u001b[0m\u001b[0;34m}\u001b[0m\u001b[0;34m)\u001b[0m\u001b[0;34m\u001b[0m\u001b[0m\n\u001b[0m\u001b[1;32m     19\u001b[0m \u001b[0mcorrect_prediction\u001b[0m \u001b[0;34m=\u001b[0m \u001b[0mtf\u001b[0m\u001b[0;34m.\u001b[0m\u001b[0mequal\u001b[0m\u001b[0;34m(\u001b[0m\u001b[0mtf\u001b[0m\u001b[0;34m.\u001b[0m\u001b[0mround\u001b[0m\u001b[0;34m(\u001b[0m\u001b[0my\u001b[0m\u001b[0;34m)\u001b[0m\u001b[0;34m,\u001b[0m \u001b[0mtf\u001b[0m\u001b[0;34m.\u001b[0m\u001b[0mround\u001b[0m\u001b[0;34m(\u001b[0m\u001b[0my_\u001b[0m\u001b[0;34m)\u001b[0m\u001b[0;34m)\u001b[0m\u001b[0;34m\u001b[0m\u001b[0m\n\u001b[1;32m     20\u001b[0m \u001b[0maccuracy\u001b[0m \u001b[0;34m=\u001b[0m \u001b[0mtf\u001b[0m\u001b[0;34m.\u001b[0m\u001b[0mreduce_mean\u001b[0m\u001b[0;34m(\u001b[0m\u001b[0mtf\u001b[0m\u001b[0;34m.\u001b[0m\u001b[0mcast\u001b[0m\u001b[0;34m(\u001b[0m\u001b[0mcorrect_prediction\u001b[0m\u001b[0;34m,\u001b[0m \u001b[0;34m\"float\"\u001b[0m\u001b[0;34m)\u001b[0m\u001b[0;34m)\u001b[0m\u001b[0;34m\u001b[0m\u001b[0m\n",
      "\u001b[0;32m/Users/tejasmehta/virtual/sharpscholar/lib/python2.7/site-packages/tensorflow/python/framework/ops.pyc\u001b[0m in \u001b[0;36mrun\u001b[0;34m(self, feed_dict, session)\u001b[0m\n\u001b[1;32m   1265\u001b[0m         \u001b[0mnone\u001b[0m\u001b[0;34m,\u001b[0m \u001b[0mthe\u001b[0m \u001b[0mdefault\u001b[0m \u001b[0msession\u001b[0m \u001b[0mwill\u001b[0m \u001b[0mbe\u001b[0m \u001b[0mused\u001b[0m\u001b[0;34m.\u001b[0m\u001b[0;34m\u001b[0m\u001b[0m\n\u001b[1;32m   1266\u001b[0m     \"\"\"\n\u001b[0;32m-> 1267\u001b[0;31m     \u001b[0m_run_using_default_session\u001b[0m\u001b[0;34m(\u001b[0m\u001b[0mself\u001b[0m\u001b[0;34m,\u001b[0m \u001b[0mfeed_dict\u001b[0m\u001b[0;34m,\u001b[0m \u001b[0mself\u001b[0m\u001b[0;34m.\u001b[0m\u001b[0mgraph\u001b[0m\u001b[0;34m,\u001b[0m \u001b[0msession\u001b[0m\u001b[0;34m)\u001b[0m\u001b[0;34m\u001b[0m\u001b[0m\n\u001b[0m\u001b[1;32m   1268\u001b[0m \u001b[0;34m\u001b[0m\u001b[0m\n\u001b[1;32m   1269\u001b[0m \u001b[0;34m\u001b[0m\u001b[0m\n",
      "\u001b[0;32m/Users/tejasmehta/virtual/sharpscholar/lib/python2.7/site-packages/tensorflow/python/framework/ops.pyc\u001b[0m in \u001b[0;36m_run_using_default_session\u001b[0;34m(operation, feed_dict, graph, session)\u001b[0m\n\u001b[1;32m   2761\u001b[0m                        \u001b[0;34m\"the operation's graph is different from the session's \"\u001b[0m\u001b[0;34m\u001b[0m\u001b[0m\n\u001b[1;32m   2762\u001b[0m                        \"graph.\")\n\u001b[0;32m-> 2763\u001b[0;31m   \u001b[0msession\u001b[0m\u001b[0;34m.\u001b[0m\u001b[0mrun\u001b[0m\u001b[0;34m(\u001b[0m\u001b[0moperation\u001b[0m\u001b[0;34m,\u001b[0m \u001b[0mfeed_dict\u001b[0m\u001b[0;34m)\u001b[0m\u001b[0;34m\u001b[0m\u001b[0m\n\u001b[0m\u001b[1;32m   2764\u001b[0m \u001b[0;34m\u001b[0m\u001b[0m\n\u001b[1;32m   2765\u001b[0m \u001b[0;34m\u001b[0m\u001b[0m\n",
      "\u001b[0;32m/Users/tejasmehta/virtual/sharpscholar/lib/python2.7/site-packages/tensorflow/python/client/session.pyc\u001b[0m in \u001b[0;36mrun\u001b[0;34m(self, fetches, feed_dict)\u001b[0m\n\u001b[1;32m    343\u001b[0m \u001b[0;34m\u001b[0m\u001b[0m\n\u001b[1;32m    344\u001b[0m     \u001b[0;31m# Run request and get response.\u001b[0m\u001b[0;34m\u001b[0m\u001b[0;34m\u001b[0m\u001b[0m\n\u001b[0;32m--> 345\u001b[0;31m     \u001b[0mresults\u001b[0m \u001b[0;34m=\u001b[0m \u001b[0mself\u001b[0m\u001b[0;34m.\u001b[0m\u001b[0m_do_run\u001b[0m\u001b[0;34m(\u001b[0m\u001b[0mtarget_list\u001b[0m\u001b[0;34m,\u001b[0m \u001b[0munique_fetch_targets\u001b[0m\u001b[0;34m,\u001b[0m \u001b[0mfeed_dict_string\u001b[0m\u001b[0;34m)\u001b[0m\u001b[0;34m\u001b[0m\u001b[0m\n\u001b[0m\u001b[1;32m    346\u001b[0m \u001b[0;34m\u001b[0m\u001b[0m\n\u001b[1;32m    347\u001b[0m     \u001b[0;31m# User may have fetched the same tensor multiple times, but we\u001b[0m\u001b[0;34m\u001b[0m\u001b[0;34m\u001b[0m\u001b[0m\n",
      "\u001b[0;32m/Users/tejasmehta/virtual/sharpscholar/lib/python2.7/site-packages/tensorflow/python/client/session.pyc\u001b[0m in \u001b[0;36m_do_run\u001b[0;34m(self, target_list, fetch_list, feed_dict)\u001b[0m\n\u001b[1;32m    417\u001b[0m         \u001b[0;31m# pylint: disable=protected-access\u001b[0m\u001b[0;34m\u001b[0m\u001b[0;34m\u001b[0m\u001b[0m\n\u001b[1;32m    418\u001b[0m         raise errors._make_specific_exception(node_def, op, e.error_message,\n\u001b[0;32m--> 419\u001b[0;31m                                               e.code)\n\u001b[0m\u001b[1;32m    420\u001b[0m         \u001b[0;31m# pylint: enable=protected-access\u001b[0m\u001b[0;34m\u001b[0m\u001b[0;34m\u001b[0m\u001b[0m\n\u001b[1;32m    421\u001b[0m       \u001b[0;32mraise\u001b[0m \u001b[0me_type\u001b[0m\u001b[0;34m,\u001b[0m \u001b[0me_value\u001b[0m\u001b[0;34m,\u001b[0m \u001b[0me_traceback\u001b[0m\u001b[0;34m\u001b[0m\u001b[0m\n",
      "\u001b[0;31mInvalidArgumentError\u001b[0m: ReluGrad input is not finite. : Tensor had NaN values\n\t [[Node: gradients_34/Relu_3_grad/Relu_3/CheckNumerics = CheckNumerics[T=DT_FLOAT, message=\"ReluGrad input is not finite.\", _device=\"/job:localhost/replica:0/task:0/cpu:0\"](Add_2)]]\nCaused by op u'gradients_34/Relu_3_grad/Relu_3/CheckNumerics', defined at:\n  File \"/System/Library/Frameworks/Python.framework/Versions/2.7/lib/python2.7/runpy.py\", line 162, in _run_module_as_main\n    \"__main__\", fname, loader, pkg_name)\n  File \"/System/Library/Frameworks/Python.framework/Versions/2.7/lib/python2.7/runpy.py\", line 72, in _run_code\n    exec code in run_globals\n  File \"/Users/tejasmehta/virtual/sharpscholar/lib/python2.7/site-packages/ipykernel/__main__.py\", line 3, in <module>\n    app.launch_new_instance()\n  File \"/Users/tejasmehta/virtual/sharpscholar/lib/python2.7/site-packages/traitlets/config/application.py\", line 592, in launch_instance\n    app.start()\n  File \"/Users/tejasmehta/virtual/sharpscholar/lib/python2.7/site-packages/ipykernel/kernelapp.py\", line 403, in start\n    ioloop.IOLoop.instance().start()\n  File \"/Users/tejasmehta/virtual/sharpscholar/lib/python2.7/site-packages/zmq/eventloop/ioloop.py\", line 162, in start\n    super(ZMQIOLoop, self).start()\n  File \"/Users/tejasmehta/virtual/sharpscholar/lib/python2.7/site-packages/tornado/ioloop.py\", line 866, in start\n    handler_func(fd_obj, events)\n  File \"/Users/tejasmehta/virtual/sharpscholar/lib/python2.7/site-packages/tornado/stack_context.py\", line 275, in null_wrapper\n    return fn(*args, **kwargs)\n  File \"/Users/tejasmehta/virtual/sharpscholar/lib/python2.7/site-packages/zmq/eventloop/zmqstream.py\", line 440, in _handle_events\n    self._handle_recv()\n  File \"/Users/tejasmehta/virtual/sharpscholar/lib/python2.7/site-packages/zmq/eventloop/zmqstream.py\", line 472, in _handle_recv\n    self._run_callback(callback, msg)\n  File \"/Users/tejasmehta/virtual/sharpscholar/lib/python2.7/site-packages/zmq/eventloop/zmqstream.py\", line 414, in _run_callback\n    callback(*args, **kwargs)\n  File \"/Users/tejasmehta/virtual/sharpscholar/lib/python2.7/site-packages/tornado/stack_context.py\", line 275, in null_wrapper\n    return fn(*args, **kwargs)\n  File \"/Users/tejasmehta/virtual/sharpscholar/lib/python2.7/site-packages/ipykernel/kernelbase.py\", line 260, in dispatcher\n    return self.dispatch_shell(stream, msg)\n  File \"/Users/tejasmehta/virtual/sharpscholar/lib/python2.7/site-packages/ipykernel/kernelbase.py\", line 212, in dispatch_shell\n    handler(stream, idents, msg)\n  File \"/Users/tejasmehta/virtual/sharpscholar/lib/python2.7/site-packages/ipykernel/kernelbase.py\", line 370, in execute_request\n    user_expressions, allow_stdin)\n  File \"/Users/tejasmehta/virtual/sharpscholar/lib/python2.7/site-packages/ipykernel/ipkernel.py\", line 175, in do_execute\n    shell.run_cell(code, store_history=store_history, silent=silent)\n  File \"/Users/tejasmehta/virtual/sharpscholar/lib/python2.7/site-packages/IPython/core/interactiveshell.py\", line 2902, in run_cell\n    interactivity=interactivity, compiler=compiler, result=result)\n  File \"/Users/tejasmehta/virtual/sharpscholar/lib/python2.7/site-packages/IPython/core/interactiveshell.py\", line 3006, in run_ast_nodes\n    if self.run_code(code, result):\n  File \"/Users/tejasmehta/virtual/sharpscholar/lib/python2.7/site-packages/IPython/core/interactiveshell.py\", line 3066, in run_code\n    exec(code_obj, self.user_global_ns, self.user_ns)\n  File \"<ipython-input-99-1e7ae2b17d1a>\", line 16, in <module>\n    train_step = tf.train.GradientDescentOptimizer(0.01).minimize(cross_entropy)\n  File \"/Users/tejasmehta/virtual/sharpscholar/lib/python2.7/site-packages/tensorflow/python/training/optimizer.py\", line 165, in minimize\n    gate_gradients=gate_gradients)\n  File \"/Users/tejasmehta/virtual/sharpscholar/lib/python2.7/site-packages/tensorflow/python/training/optimizer.py\", line 205, in compute_gradients\n    loss, var_list, gate_gradients=(gate_gradients == Optimizer.GATE_OP))\n  File \"/Users/tejasmehta/virtual/sharpscholar/lib/python2.7/site-packages/tensorflow/python/ops/gradients.py\", line 414, in gradients\n    in_grads = _AsList(grad_fn(op_wrapper, *out_grads))\n  File \"/Users/tejasmehta/virtual/sharpscholar/lib/python2.7/site-packages/tensorflow/python/ops/nn_grad.py\", line 107, in _ReluGrad\n    t = _VerifyTensor(op.inputs[0], op.name, \"ReluGrad input is not finite.\")\n  File \"/Users/tejasmehta/virtual/sharpscholar/lib/python2.7/site-packages/tensorflow/python/ops/nn_grad.py\", line 100, in _VerifyTensor\n    verify_input = array_ops.check_numerics(t, message=msg)\n  File \"/Users/tejasmehta/virtual/sharpscholar/lib/python2.7/site-packages/tensorflow/python/ops/gen_array_ops.py\", line 48, in check_numerics\n    name=name)\n  File \"/Users/tejasmehta/virtual/sharpscholar/lib/python2.7/site-packages/tensorflow/python/ops/op_def_library.py\", line 633, in apply_op\n    op_def=op_def)\n  File \"/Users/tejasmehta/virtual/sharpscholar/lib/python2.7/site-packages/tensorflow/python/framework/ops.py\", line 1710, in create_op\n    original_op=self._default_original_op, op_def=op_def)\n  File \"/Users/tejasmehta/virtual/sharpscholar/lib/python2.7/site-packages/tensorflow/python/framework/ops.py\", line 988, in __init__\n    self._traceback = _extract_stack()\n\n...which was originally created as op u'Relu_3', defined at:\n  File \"/System/Library/Frameworks/Python.framework/Versions/2.7/lib/python2.7/runpy.py\", line 162, in _run_module_as_main\n    \"__main__\", fname, loader, pkg_name)\n[elided 17 identical lines from previous traceback]\n  File \"/Users/tejasmehta/virtual/sharpscholar/lib/python2.7/site-packages/IPython/core/interactiveshell.py\", line 3066, in run_code\n    exec(code_obj, self.user_global_ns, self.user_ns)\n  File \"<ipython-input-99-1e7ae2b17d1a>\", line 11, in <module>\n    y = tf.nn.relu(tf.add(tf.matmul(x,W), b))\n  File \"/Users/tejasmehta/virtual/sharpscholar/lib/python2.7/site-packages/tensorflow/python/ops/gen_nn_ops.py\", line 506, in relu\n    return _op_def_lib.apply_op(\"Relu\", features=features, name=name)\n  File \"/Users/tejasmehta/virtual/sharpscholar/lib/python2.7/site-packages/tensorflow/python/ops/op_def_library.py\", line 633, in apply_op\n    op_def=op_def)\n  File \"/Users/tejasmehta/virtual/sharpscholar/lib/python2.7/site-packages/tensorflow/python/framework/ops.py\", line 1710, in create_op\n    original_op=self._default_original_op, op_def=op_def)\n  File \"/Users/tejasmehta/virtual/sharpscholar/lib/python2.7/site-packages/tensorflow/python/framework/ops.py\", line 988, in __init__\n    self._traceback = _extract_stack()\n"
     ]
    }
   ],
   "source": [
    "#TensorFlow - Initial Model\n",
    "n = train.shape[1]\n",
    "output_n = 1\n",
    "sess = tf.InteractiveSession()\n",
    "x = tf.placeholder(\"float\", shape=[None, n])\n",
    "y_ = tf.placeholder(\"float\", shape=[None, output_n])\n",
    "W = tf.Variable(tf.zeros([n,output_n]))\n",
    "b = tf.Variable(tf.zeros([output_n]))\n",
    "\n",
    "sess.run(tf.initialize_all_variables())\n",
    "y = tf.nn.relu(tf.add(tf.matmul(x,W), b))\n",
    "print y.eval(feed_dict={x: training})\n",
    "    \n",
    "cross_entropy = -tf.reduce_sum(y_*tf.log(y))\n",
    "\n",
    "train_step = tf.train.GradientDescentOptimizer(0.01).minimize(cross_entropy)\n",
    "for i in range(10):\n",
    "    train_step.run(feed_dict={x: training, y_: outputing})\n",
    "correct_prediction = tf.equal(tf.round(y), tf.round(y_))\n",
    "accuracy = tf.reduce_mean(tf.cast(correct_prediction, \"float\"))\n",
    "print accuracy.eval(feed_dict={x: test, y_: output_test})"
   ]
  },
  {
   "cell_type": "code",
   "execution_count": 102,
   "metadata": {
    "collapsed": false
   },
   "outputs": [],
   "source": [
    "\n",
    "final_test = pd.read_csv('test.csv')\n",
    "\n",
    "quote_nums_final = final_test['QuoteNumber']\n",
    "del final_test['QuoteNumber']\n",
    "for c in final_test.columns:\n",
    "    if final_test[c].dtype == 'object':\n",
    "        final_test[c] = final_test[c].fillna('missing')\n",
    "        final_test[c] = pd.factorize(final_test[c])[0]\n",
    "    else:\n",
    "        final_test[c] = final_test[c].fillna(0)"
   ]
  },
  {
   "cell_type": "code",
   "execution_count": 73,
   "metadata": {
    "collapsed": false
   },
   "outputs": [],
   "source": [
    "with sess.as_default():\n",
    "    pred_op = tf.round(y)\n",
    "    out = y.eval(feed_dict={x: final_test})"
   ]
  },
  {
   "cell_type": "code",
   "execution_count": 77,
   "metadata": {
    "collapsed": false
   },
   "outputs": [],
   "source": [
    "out = out[:, 0]"
   ]
  },
  {
   "cell_type": "code",
   "execution_count": 78,
   "metadata": {
    "collapsed": false
   },
   "outputs": [],
   "source": [
    "to_write = pd.DataFrame({'QuoteNumber': quote_nums_final, 'QuoteConversion_Flag': out})\n",
    "to_write.to_csv('out.csv', sep=',')"
   ]
  },
  {
   "cell_type": "code",
   "execution_count": 90,
   "metadata": {
    "collapsed": false
   },
   "outputs": [],
   "source": [
    "import numpy as np\n",
    "from sklearn.tree import DecisionTreeClassifier\n",
    "from sklearn.ensemble import AdaBoostClassifier\n",
    "from sklearn.metrics import precision_recall_curve"
   ]
  },
  {
   "cell_type": "code",
   "execution_count": 100,
   "metadata": {
    "collapsed": false
   },
   "outputs": [
    {
     "name": "stdout",
     "output_type": "stream",
     "text": [
      "(array([ 0.20707528,  0.20705858,  0.20706294, ...,  1.        ,\n",
      "        1.        ,  1.        ]), array([  1.00000000e+00,   9.99898250e-01,   9.99898250e-01, ...,\n",
      "         2.03500204e-04,   1.01750102e-04,   0.00000000e+00]), array([-0.39130632, -0.39128475, -0.39128251, ...,  0.83108763,\n",
      "        0.83416218,  0.89724739]))\n"
     ]
    },
    {
     "name": "stderr",
     "output_type": "stream",
     "text": [
      "/Users/tejasmehta/virtual/sharpscholar/lib/python2.7/site-packages/sklearn/utils/validation.py:515: DataConversionWarning: A column-vector y was passed when a 1d array was expected. Please change the shape of y to (n_samples, ), for example using ravel().\n",
      "  y = column_or_1d(y, warn=True)\n"
     ]
    }
   ],
   "source": [
    "rng = np.random.RandomState(1)\n",
    "regr_2 = AdaBoostClassifier(DecisionTreeClassifier(max_depth=4),\n",
    "                          n_estimators=300, random_state=rng)\n",
    "regr_2.fit(training, outputing)\n",
    "y_2 = regr_2.predict(test)\n",
    "\n",
    "y_score = regr_2.decision_function(test)\n",
    "print precision_recall_curve(output_test,y_score)"
   ]
  },
  {
   "cell_type": "code",
   "execution_count": 104,
   "metadata": {
    "collapsed": false
   },
   "outputs": [
    {
     "name": "stdout",
     "output_type": "stream",
     "text": [
      "             precision    recall  f1-score   support\n",
      "\n",
      "          0       0.93      0.96      0.95     42200\n",
      "          1       0.81      0.71      0.76      9828\n",
      "\n",
      "avg / total       0.91      0.91      0.91     52028\n",
      "\n"
     ]
    }
   ],
   "source": [
    "from sklearn.metrics import classification_report\n",
    "print(classification_report(output_test, y_2))\n",
    "out = regr_2.predict(final_test)\n",
    "to_write = pd.DataFrame({'QuoteNumber': quote_nums_final, 'QuoteConversion_Flag': out})\n",
    "to_write.to_csv('out.csv', sep=',')"
   ]
  }
 ],
 "metadata": {
  "kernelspec": {
   "display_name": "Python 2",
   "language": "python",
   "name": "python2"
  },
  "language_info": {
   "codemirror_mode": {
    "name": "ipython",
    "version": 2
   },
   "file_extension": ".py",
   "mimetype": "text/x-python",
   "name": "python",
   "nbconvert_exporter": "python",
   "pygments_lexer": "ipython2",
   "version": "2.7.10"
  }
 },
 "nbformat": 4,
 "nbformat_minor": 0
}
